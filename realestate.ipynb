{
 "cells": [
  {
   "cell_type": "code",
   "execution_count": 53,
   "source": [
    "import requests\r\n",
    "from bs4 import BeautifulSoup\r\n",
    "headers = {\r\n",
    "    'User-Agent': 'Mozilla/5.0 (Macintosh; Intel Mac OS X 10.12; rv:55.0) Gecko/20100101 Firefox/55.0',\r\n",
    "}"
   ],
   "outputs": [],
   "metadata": {}
  },
  {
   "cell_type": "code",
   "execution_count": 54,
   "source": [
    "req = requests.get('http://pyclass.com/real-estate/rock-springs-wy/LCWYROCKSPRINGS/',headers=headers)\r\n",
    "cont = req.content\r\n",
    "\r\n",
    "soup = BeautifulSoup(cont,\"html.parser\")"
   ],
   "outputs": [],
   "metadata": {}
  },
  {
   "cell_type": "code",
   "execution_count": 56,
   "source": [
    "price = soup.find_all(\"h4\",{\"class\":\"propPrice\"})"
   ],
   "outputs": [],
   "metadata": {}
  },
  {
   "cell_type": "code",
   "execution_count": 70,
   "source": [
    "properties = soup.find_all(\"div\",{\"class\":\"CenterLaneCard propertyCard\"})"
   ],
   "outputs": [],
   "metadata": {}
  },
  {
   "cell_type": "code",
   "execution_count": 105,
   "source": [
    "prop = soup.find_all(\"div\",{\"class\":\"primaryDetails\"})"
   ],
   "outputs": [],
   "metadata": {}
  },
  {
   "cell_type": "code",
   "execution_count": 114,
   "source": [
    "prop[0]"
   ],
   "outputs": [
    {
     "output_type": "execute_result",
     "data": {
      "text/plain": [
       "<div class=\"primaryDetails\">\n",
       "<span class=\"propAddressCollapse\" title=\"0 Gateway\">0 Gateway</span>\n",
       "<span class=\"propAddressCollapse\">Rock Springs, WY 82901</span>\n",
       "<input name=\"shortCurrency\" type=\"hidden\" value=\"$725K\"/>\n",
       "<input name=\"proplongitude\" type=\"hidden\" value=\"-109.248\"/>\n",
       "<input name=\"proplatitude\" type=\"hidden\" value=\"41.5842\"/>\n",
       "</div>"
      ]
     },
     "metadata": {},
     "execution_count": 114
    }
   ],
   "metadata": {}
  },
  {
   "cell_type": "code",
   "execution_count": 177,
   "source": [
    "long =prop[0].find_all(\"input\",{\"name\":\"proplongitude\"})\r\n",
    "l = long[0].get('value')"
   ],
   "outputs": [],
   "metadata": {}
  },
  {
   "cell_type": "code",
   "execution_count": 208,
   "source": [
    "loc = {}\r\n",
    "for x in range(len(prop)):\r\n",
    "\r\n",
    "    #lat = prop[x].find_all(\"input\",{\"name\":\"proplatitude\"})[x].get('value')\r\n",
    "    lon = prop[x].find_all(\"input\",{\"name\":\"proplongitude\"})\r\n",
    "    \r\n",
    "   # print(x)\r\n",
    "    \r\n",
    "#lon = prop[x].find_all(\"input\",{\"name\":\"proplongitude\"})   \r\n",
    "\r\n",
    "print(prop[2].find_all(\"input\",{\"name\":\"proplatitude\"})[0].get('value'))    \r\n",
    "\r\n",
    "print(prop[3])\r\n",
    "    \r\n",
    "    "
   ],
   "outputs": [
    {
     "output_type": "stream",
     "name": "stdout",
     "text": [
      "41.5942\n",
      "<div class=\"primaryDetails\">\n",
      "<span class=\"propAddressCollapse\" title=\"3239 Spearhead Way\">3239 Spearhead Way</span>\n",
      "<span class=\"propAddressCollapse\">Rock Springs, WY 82901</span>\n",
      "<input name=\"shortCurrency\" type=\"hidden\" value=\"$389K\"/>\n",
      "</div>\n"
     ]
    }
   ],
   "metadata": {}
  },
  {
   "cell_type": "code",
   "execution_count": 389,
   "source": [
    "property = soup.find_all('div',{'class':'primaryDetails'})\r\n",
    "property"
   ],
   "outputs": [
    {
     "output_type": "execute_result",
     "data": {
      "text/plain": [
       "[<div class=\"primaryDetails\">\n",
       " <span class=\"propAddressCollapse\" title=\"0 Gateway\">0 Gateway</span>\n",
       " <span class=\"propAddressCollapse\">Rock Springs, WY 82901</span>\n",
       " <input name=\"shortCurrency\" type=\"hidden\" value=\"$725K\"/>\n",
       " <input name=\"proplongitude\" type=\"hidden\" value=\"-109.248\"/>\n",
       " <input name=\"proplatitude\" type=\"hidden\" value=\"41.5842\"/>\n",
       " </div>,\n",
       " <div class=\"primaryDetails\">\n",
       " <span class=\"propAddressCollapse\" title=\"1003 Winchester Blvd.\">1003 Winchester Blvd.</span>\n",
       " <span class=\"propAddressCollapse\">Rock Springs, WY 82901</span>\n",
       " <input name=\"shortCurrency\" type=\"hidden\" value=\"$452K\"/>\n",
       " </div>,\n",
       " <div class=\"primaryDetails\">\n",
       " <span class=\"propAddressCollapse\" title=\"600 Talladega\">600 Talladega</span>\n",
       " <span class=\"propAddressCollapse\">Rock Springs, WY 82901</span>\n",
       " <input name=\"shortCurrency\" type=\"hidden\" value=\"$396K\"/>\n",
       " <input name=\"proplongitude\" type=\"hidden\" value=\"-109.272\"/>\n",
       " <input name=\"proplatitude\" type=\"hidden\" value=\"41.5942\"/>\n",
       " </div>,\n",
       " <div class=\"primaryDetails\">\n",
       " <span class=\"propAddressCollapse\" title=\"3239 Spearhead Way\">3239 Spearhead Way</span>\n",
       " <span class=\"propAddressCollapse\">Rock Springs, WY 82901</span>\n",
       " <input name=\"shortCurrency\" type=\"hidden\" value=\"$389K\"/>\n",
       " </div>,\n",
       " <div class=\"primaryDetails\">\n",
       " <span class=\"propAddressCollapse\" title=\"522 Emerald Street\">522 Emerald Street</span>\n",
       " <span class=\"propAddressCollapse\">Rock Springs, WY 82901</span>\n",
       " <input name=\"shortCurrency\" type=\"hidden\" value=\"$254K\"/>\n",
       " </div>,\n",
       " <div class=\"primaryDetails\">\n",
       " <span class=\"propAddressCollapse\" title=\"1302 Veteran's Drive\">1302 Veteran's Drive</span>\n",
       " <span class=\"propAddressCollapse\">Rock Springs, WY 82901</span>\n",
       " <input name=\"shortCurrency\" type=\"hidden\" value=\"$252K\"/>\n",
       " </div>,\n",
       " <div class=\"primaryDetails\">\n",
       " <span class=\"propAddressCollapse\" title=\"1021 Cypress Cir\">1021 Cypress Cir</span>\n",
       " <span class=\"propAddressCollapse\">Rock Springs, WY 82901</span>\n",
       " <input name=\"shortCurrency\" type=\"hidden\" value=\"$210K\"/>\n",
       " </div>,\n",
       " <div class=\"primaryDetails\">\n",
       " <span class=\"propAddressCollapse\" title=\"913 Madison Dr\">913 Madison Dr</span>\n",
       " <span class=\"propAddressCollapse\">Rock Springs, WY 82901</span>\n",
       " <input name=\"shortCurrency\" type=\"hidden\" value=\"$209K\"/>\n",
       " </div>,\n",
       " <div class=\"primaryDetails\">\n",
       " <span class=\"propAddressCollapse\" title=\"1344 Teton Street\">1344 Teton Street</span>\n",
       " <span class=\"propAddressCollapse\">Rock Springs, WY 82901</span>\n",
       " <input name=\"shortCurrency\" type=\"hidden\" value=\"$199K\"/>\n",
       " </div>,\n",
       " <div class=\"primaryDetails\">\n",
       " <span class=\"propAddressCollapse\" title=\"4 Minnies Lane\">4 Minnies Lane</span>\n",
       " <span class=\"propAddressCollapse\">Rock Springs, WY 82901</span>\n",
       " <input name=\"shortCurrency\" type=\"hidden\" value=\"$196K\"/>\n",
       " </div>]"
      ]
     },
     "metadata": {},
     "execution_count": 389
    }
   ],
   "metadata": {}
  },
  {
   "cell_type": "code",
   "execution_count": 240,
   "source": [
    "import pandas\r\n",
    "df = pandas.DataFrame()"
   ],
   "outputs": [],
   "metadata": {}
  },
  {
   "cell_type": "code",
   "execution_count": 244,
   "source": [
    "import json"
   ],
   "outputs": [],
   "metadata": {}
  },
  {
   "cell_type": "code",
   "execution_count": 408,
   "source": [
    "## getting title, address, price\r\n",
    "\r\n",
    "property = soup.find_all('div',{'class':'primaryDetails'})\r\n",
    "\r\n",
    " \r\n",
    "# base structure\r\n",
    "# title = property[0].find_all('span',{'class':'propAddressCollapse'})[0].get('title')\r\n",
    "# address = property[0].find_all('span',{'class':'propAddressCollapse'})[1].string\r\n",
    "# price = property[0].find_all('input',{'name':'shortCurrency'})[0].get('value')\r\n",
    "\r\n",
    "f = open('prop.json','w')\r\n",
    "dict_prop = {}\r\n",
    "\r\n",
    "for p in range(len(property)):\r\n",
    "    title = property[p].find_all('span',{'class':'propAddressCollapse'})[0].get('title')\r\n",
    "    address = property[p].find_all('span',{'class':'propAddressCollapse'})[1].string\r\n",
    "    price = property[p].find_all('input',{'name':'shortCurrency'})[0].get('value')\r\n",
    "    #print(f\"{title}\\t\\t--{address}\\t\\t--{price}\")\r\n",
    "    dict_prop[title] ={\"Address\":address,\"Price\":price}\r\n",
    "  \r\n",
    "print(dict_prop)\r\n",
    "\r\n",
    "json.dump(dict_prop, f, indent=8)\r\n",
    "\r\n",
    "\r\n",
    "\r\n"
   ],
   "outputs": [
    {
     "output_type": "stream",
     "name": "stdout",
     "text": [
      "{'0 Gateway': {'Address': 'Rock Springs, WY 82901', 'Price': '$725K'}, '1003 Winchester Blvd.': {'Address': 'Rock Springs, WY 82901', 'Price': '$452K'}, '600 Talladega': {'Address': 'Rock Springs, WY 82901', 'Price': '$396K'}, '3239 Spearhead Way': {'Address': 'Rock Springs, WY 82901', 'Price': '$389K'}, '522 Emerald Street': {'Address': 'Rock Springs, WY 82901', 'Price': '$254K'}, \"1302 Veteran's Drive\": {'Address': 'Rock Springs, WY 82901', 'Price': '$252K'}, '1021 Cypress Cir': {'Address': 'Rock Springs, WY 82901', 'Price': '$210K'}, '913 Madison Dr': {'Address': 'Rock Springs, WY 82901', 'Price': '$209K'}, '1344 Teton Street': {'Address': 'Rock Springs, WY 82901', 'Price': '$199K'}, '4 Minnies Lane': {'Address': 'Rock Springs, WY 82901', 'Price': '$196K'}}\n"
     ]
    }
   ],
   "metadata": {}
  },
  {
   "cell_type": "code",
   "execution_count": 231,
   "source": [
    "price"
   ],
   "outputs": [
    {
     "output_type": "execute_result",
     "data": {
      "text/plain": [
       "'$725K'"
      ]
     },
     "metadata": {},
     "execution_count": 231
    }
   ],
   "metadata": {}
  },
  {
   "cell_type": "code",
   "execution_count": 247,
   "source": [
    "df = pandas.read_json('prop.json')"
   ],
   "outputs": [],
   "metadata": {}
  },
  {
   "cell_type": "code",
   "execution_count": 307,
   "source": [
    "bed = soup.find_all('span',{'class':'infoBed'})\r\n",
    "bed[0].get_text()\r\n"
   ],
   "outputs": [
    {
     "output_type": "execute_result",
     "data": {
      "text/plain": [
       "'4 Beds'"
      ]
     },
     "metadata": {},
     "execution_count": 307
    }
   ],
   "metadata": {}
  },
  {
   "cell_type": "code",
   "execution_count": 352,
   "source": [
    "bath = soup.find_all('span',{'class':'infoValueFullBath'})\r\n",
    "print(bath[3].get_text())\r\n",
    "len(bath)"
   ],
   "outputs": [
    {
     "output_type": "stream",
     "name": "stdout",
     "text": [
      "3 Full Baths\n"
     ]
    },
    {
     "output_type": "execute_result",
     "data": {
      "text/plain": [
       "9"
      ]
     },
     "metadata": {},
     "execution_count": 352
    }
   ],
   "metadata": {}
  },
  {
   "cell_type": "code",
   "execution_count": 366,
   "source": [
    "bed = soup.find_all('span',{'class':'infoBed'})\r\n",
    "bath = soup.find_all('span',{'class':'infoValueFullBath'})\r\n",
    "\r\n",
    "print(bed[0])"
   ],
   "outputs": [
    {
     "output_type": "stream",
     "name": "stdout",
     "text": [
      "<span class=\"infoBed\"><b>4</b> Beds</span>\n"
     ]
    }
   ],
   "metadata": {}
  },
  {
   "cell_type": "code",
   "execution_count": 419,
   "source": [
    "bed = soup.find_all('span',{'class':'infoBed'})\r\n",
    "bath = soup.find_all('span',{'class':'infoValueFullBath'})\r\n",
    "jf = open('p.json','w')\r\n",
    "pro_dict={}\r\n",
    "for p in range(len(property)):\r\n",
    "    title = property[p].find_all('span',{'class':'propAddressCollapse'})[0].get('title')\r\n",
    "    address = property[p].find_all('span',{'class':'propAddressCollapse'})[1].string\r\n",
    "    price = property[p].find_all('input',{'name':'shortCurrency'})[0].get('value')\r\n",
    "    \r\n",
    "    try:\r\n",
    "        if len(bed[p]) >0:\r\n",
    "            #print('ok.')\r\n",
    "            b = bed[p].get_text()\r\n",
    "        else:\r\n",
    "            b=0\r\n",
    "        \r\n",
    "        if len(bath[p]) >0:\r\n",
    "            #print('bath ok',bath[p].get_text())\r\n",
    "            bth = bath[p].get_text()\r\n",
    "        else:\r\n",
    "            #print('no bath')\r\n",
    "            bth = 0        \r\n",
    "    except:\r\n",
    "        pass\r\n",
    "        \r\n",
    "        \r\n",
    "pro_dict[title] = {\"Address\":address, \"Price\":price, \"Bed\":b, \"Bath\":bth}        \r\n",
    "json.dump(pro_dict,jf,indent=8)\r\n",
    "print(pro_dict)\r\n",
    "      \r\n",
    "    #pro_dict[title] = {\"Address\":address, \"Price\":price, \"Bed\":b, \"Bath\":bth}\r\n",
    "    #print(f\"{title}\\t\\t--{address}\\t\\t--{price}\\t\\t--{b}\\t\\t--{bth}\")\r\n",
    "    #json.dump(pro_dict,f,indent=8)"
   ],
   "outputs": [
    {
     "output_type": "stream",
     "name": "stdout",
     "text": [
      "{'4 Minnies Lane': {'Address': 'Rock Springs, WY 82901', 'Price': '$196K', 'Bed': '3 Beds', 'Bath': '2 Full Baths'}}\n"
     ]
    }
   ],
   "metadata": {}
  },
  {
   "cell_type": "code",
   "execution_count": null,
   "source": [],
   "outputs": [],
   "metadata": {}
  }
 ],
 "metadata": {
  "orig_nbformat": 4,
  "language_info": {
   "name": "python",
   "version": "3.8.8",
   "mimetype": "text/x-python",
   "codemirror_mode": {
    "name": "ipython",
    "version": 3
   },
   "pygments_lexer": "ipython3",
   "nbconvert_exporter": "python",
   "file_extension": ".py"
  },
  "kernelspec": {
   "name": "python3",
   "display_name": "Python 3.8.8 64-bit ('base': conda)"
  },
  "interpreter": {
   "hash": "efdfd2686e573dddf0c043741fac81f80551d77a937eef365896f7d2a67fdf2d"
  }
 },
 "nbformat": 4,
 "nbformat_minor": 2
}