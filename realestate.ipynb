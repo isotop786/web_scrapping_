{
 "cells": [
  {
   "cell_type": "code",
   "execution_count": 53,
   "source": [
    "import requests\r\n",
    "from bs4 import BeautifulSoup\r\n",
    "headers = {\r\n",
    "    'User-Agent': 'Mozilla/5.0 (Macintosh; Intel Mac OS X 10.12; rv:55.0) Gecko/20100101 Firefox/55.0',\r\n",
    "}"
   ],
   "outputs": [],
   "metadata": {}
  },
  {
   "cell_type": "code",
   "execution_count": 54,
   "source": [
    "req = requests.get('http://pyclass.com/real-estate/rock-springs-wy/LCWYROCKSPRINGS/',headers=headers)\r\n",
    "cont = req.content\r\n",
    "\r\n",
    "soup = BeautifulSoup(cont,\"html.parser\")"
   ],
   "outputs": [],
   "metadata": {}
  },
  {
   "cell_type": "code",
   "execution_count": 56,
   "source": [
    "price = soup.find_all(\"h4\",{\"class\":\"propPrice\"})"
   ],
   "outputs": [],
   "metadata": {}
  },
  {
   "cell_type": "code",
   "execution_count": 70,
   "source": [
    "properties = soup.find_all(\"div\",{\"class\":\"CenterLaneCard propertyCard\"})"
   ],
   "outputs": [],
   "metadata": {}
  },
  {
   "cell_type": "code",
   "execution_count": 105,
   "source": [
    "prop = soup.find_all(\"div\",{\"class\":\"primaryDetails\"})"
   ],
   "outputs": [],
   "metadata": {}
  },
  {
   "cell_type": "code",
   "execution_count": 114,
   "source": [
    "prop[0]"
   ],
   "outputs": [
    {
     "output_type": "execute_result",
     "data": {
      "text/plain": [
       "<div class=\"primaryDetails\">\n",
       "<span class=\"propAddressCollapse\" title=\"0 Gateway\">0 Gateway</span>\n",
       "<span class=\"propAddressCollapse\">Rock Springs, WY 82901</span>\n",
       "<input name=\"shortCurrency\" type=\"hidden\" value=\"$725K\"/>\n",
       "<input name=\"proplongitude\" type=\"hidden\" value=\"-109.248\"/>\n",
       "<input name=\"proplatitude\" type=\"hidden\" value=\"41.5842\"/>\n",
       "</div>"
      ]
     },
     "metadata": {},
     "execution_count": 114
    }
   ],
   "metadata": {}
  },
  {
   "cell_type": "code",
   "execution_count": 177,
   "source": [
    "long =prop[0].find_all(\"input\",{\"name\":\"proplongitude\"})\r\n",
    "l = long[0].get('value')"
   ],
   "outputs": [],
   "metadata": {}
  },
  {
   "cell_type": "code",
   "execution_count": 208,
   "source": [
    "loc = {}\r\n",
    "for x in range(len(prop)):\r\n",
    "\r\n",
    "    #lat = prop[x].find_all(\"input\",{\"name\":\"proplatitude\"})[x].get('value')\r\n",
    "    lon = prop[x].find_all(\"input\",{\"name\":\"proplongitude\"})\r\n",
    "    \r\n",
    "   # print(x)\r\n",
    "    \r\n",
    "#lon = prop[x].find_all(\"input\",{\"name\":\"proplongitude\"})   \r\n",
    "\r\n",
    "print(prop[2].find_all(\"input\",{\"name\":\"proplatitude\"})[0].get('value'))    \r\n",
    "\r\n",
    "print(prop[3])\r\n",
    "    \r\n",
    "    "
   ],
   "outputs": [
    {
     "output_type": "stream",
     "name": "stdout",
     "text": [
      "41.5942\n",
      "<div class=\"primaryDetails\">\n",
      "<span class=\"propAddressCollapse\" title=\"3239 Spearhead Way\">3239 Spearhead Way</span>\n",
      "<span class=\"propAddressCollapse\">Rock Springs, WY 82901</span>\n",
      "<input name=\"shortCurrency\" type=\"hidden\" value=\"$389K\"/>\n",
      "</div>\n"
     ]
    }
   ],
   "metadata": {}
  },
  {
   "cell_type": "code",
   "execution_count": 389,
   "source": [
    "property = soup.find_all('div',{'class':'primaryDetails'})\r\n",
    "property"
   ],
   "outputs": [
    {
     "output_type": "execute_result",
     "data": {
      "text/plain": [
       "[<div class=\"primaryDetails\">\n",
       " <span class=\"propAddressCollapse\" title=\"0 Gateway\">0 Gateway</span>\n",
       " <span class=\"propAddressCollapse\">Rock Springs, WY 82901</span>\n",
       " <input name=\"shortCurrency\" type=\"hidden\" value=\"$725K\"/>\n",
       " <input name=\"proplongitude\" type=\"hidden\" value=\"-109.248\"/>\n",
       " <input name=\"proplatitude\" type=\"hidden\" value=\"41.5842\"/>\n",
       " </div>,\n",
       " <div class=\"primaryDetails\">\n",
       " <span class=\"propAddressCollapse\" title=\"1003 Winchester Blvd.\">1003 Winchester Blvd.</span>\n",
       " <span class=\"propAddressCollapse\">Rock Springs, WY 82901</span>\n",
       " <input name=\"shortCurrency\" type=\"hidden\" value=\"$452K\"/>\n",
       " </div>,\n",
       " <div class=\"primaryDetails\">\n",
       " <span class=\"propAddressCollapse\" title=\"600 Talladega\">600 Talladega</span>\n",
       " <span class=\"propAddressCollapse\">Rock Springs, WY 82901</span>\n",
       " <input name=\"shortCurrency\" type=\"hidden\" value=\"$396K\"/>\n",
       " <input name=\"proplongitude\" type=\"hidden\" value=\"-109.272\"/>\n",
       " <input name=\"proplatitude\" type=\"hidden\" value=\"41.5942\"/>\n",
       " </div>,\n",
       " <div class=\"primaryDetails\">\n",
       " <span class=\"propAddressCollapse\" title=\"3239 Spearhead Way\">3239 Spearhead Way</span>\n",
       " <span class=\"propAddressCollapse\">Rock Springs, WY 82901</span>\n",
       " <input name=\"shortCurrency\" type=\"hidden\" value=\"$389K\"/>\n",
       " </div>,\n",
       " <div class=\"primaryDetails\">\n",
       " <span class=\"propAddressCollapse\" title=\"522 Emerald Street\">522 Emerald Street</span>\n",
       " <span class=\"propAddressCollapse\">Rock Springs, WY 82901</span>\n",
       " <input name=\"shortCurrency\" type=\"hidden\" value=\"$254K\"/>\n",
       " </div>,\n",
       " <div class=\"primaryDetails\">\n",
       " <span class=\"propAddressCollapse\" title=\"1302 Veteran's Drive\">1302 Veteran's Drive</span>\n",
       " <span class=\"propAddressCollapse\">Rock Springs, WY 82901</span>\n",
       " <input name=\"shortCurrency\" type=\"hidden\" value=\"$252K\"/>\n",
       " </div>,\n",
       " <div class=\"primaryDetails\">\n",
       " <span class=\"propAddressCollapse\" title=\"1021 Cypress Cir\">1021 Cypress Cir</span>\n",
       " <span class=\"propAddressCollapse\">Rock Springs, WY 82901</span>\n",
       " <input name=\"shortCurrency\" type=\"hidden\" value=\"$210K\"/>\n",
       " </div>,\n",
       " <div class=\"primaryDetails\">\n",
       " <span class=\"propAddressCollapse\" title=\"913 Madison Dr\">913 Madison Dr</span>\n",
       " <span class=\"propAddressCollapse\">Rock Springs, WY 82901</span>\n",
       " <input name=\"shortCurrency\" type=\"hidden\" value=\"$209K\"/>\n",
       " </div>,\n",
       " <div class=\"primaryDetails\">\n",
       " <span class=\"propAddressCollapse\" title=\"1344 Teton Street\">1344 Teton Street</span>\n",
       " <span class=\"propAddressCollapse\">Rock Springs, WY 82901</span>\n",
       " <input name=\"shortCurrency\" type=\"hidden\" value=\"$199K\"/>\n",
       " </div>,\n",
       " <div class=\"primaryDetails\">\n",
       " <span class=\"propAddressCollapse\" title=\"4 Minnies Lane\">4 Minnies Lane</span>\n",
       " <span class=\"propAddressCollapse\">Rock Springs, WY 82901</span>\n",
       " <input name=\"shortCurrency\" type=\"hidden\" value=\"$196K\"/>\n",
       " </div>]"
      ]
     },
     "metadata": {},
     "execution_count": 389
    }
   ],
   "metadata": {}
  },
  {
   "cell_type": "code",
   "execution_count": 240,
   "source": [
    "import pandas\r\n",
    "df = pandas.DataFrame()"
   ],
   "outputs": [],
   "metadata": {}
  },
  {
   "cell_type": "code",
   "execution_count": 244,
   "source": [
    "import json"
   ],
   "outputs": [],
   "metadata": {}
  },
  {
   "cell_type": "code",
   "execution_count": 408,
   "source": [
    "## getting title, address, price\r\n",
    "\r\n",
    "property = soup.find_all('div',{'class':'primaryDetails'})\r\n",
    "\r\n",
    " \r\n",
    "# base structure\r\n",
    "# title = property[0].find_all('span',{'class':'propAddressCollapse'})[0].get('title')\r\n",
    "# address = property[0].find_all('span',{'class':'propAddressCollapse'})[1].string\r\n",
    "# price = property[0].find_all('input',{'name':'shortCurrency'})[0].get('value')\r\n",
    "\r\n",
    "f = open('prop.json','w')\r\n",
    "dict_prop = {}\r\n",
    "\r\n",
    "for p in range(len(property)):\r\n",
    "    title = property[p].find_all('span',{'class':'propAddressCollapse'})[0].get('title')\r\n",
    "    address = property[p].find_all('span',{'class':'propAddressCollapse'})[1].string\r\n",
    "    price = property[p].find_all('input',{'name':'shortCurrency'})[0].get('value')\r\n",
    "    #print(f\"{title}\\t\\t--{address}\\t\\t--{price}\")\r\n",
    "    dict_prop[title] ={\"Address\":address,\"Price\":price}\r\n",
    "  \r\n",
    "print(dict_prop)\r\n",
    "\r\n",
    "json.dump(dict_prop, f, indent=8)\r\n",
    "\r\n",
    "\r\n",
    "\r\n"
   ],
   "outputs": [
    {
     "output_type": "stream",
     "name": "stdout",
     "text": [
      "{'0 Gateway': {'Address': 'Rock Springs, WY 82901', 'Price': '$725K'}, '1003 Winchester Blvd.': {'Address': 'Rock Springs, WY 82901', 'Price': '$452K'}, '600 Talladega': {'Address': 'Rock Springs, WY 82901', 'Price': '$396K'}, '3239 Spearhead Way': {'Address': 'Rock Springs, WY 82901', 'Price': '$389K'}, '522 Emerald Street': {'Address': 'Rock Springs, WY 82901', 'Price': '$254K'}, \"1302 Veteran's Drive\": {'Address': 'Rock Springs, WY 82901', 'Price': '$252K'}, '1021 Cypress Cir': {'Address': 'Rock Springs, WY 82901', 'Price': '$210K'}, '913 Madison Dr': {'Address': 'Rock Springs, WY 82901', 'Price': '$209K'}, '1344 Teton Street': {'Address': 'Rock Springs, WY 82901', 'Price': '$199K'}, '4 Minnies Lane': {'Address': 'Rock Springs, WY 82901', 'Price': '$196K'}}\n"
     ]
    }
   ],
   "metadata": {}
  },
  {
   "cell_type": "code",
   "execution_count": 231,
   "source": [
    "price"
   ],
   "outputs": [
    {
     "output_type": "execute_result",
     "data": {
      "text/plain": [
       "'$725K'"
      ]
     },
     "metadata": {},
     "execution_count": 231
    }
   ],
   "metadata": {}
  },
  {
   "cell_type": "code",
   "execution_count": 247,
   "source": [
    "df = pandas.read_json('prop.json')"
   ],
   "outputs": [],
   "metadata": {}
  },
  {
   "cell_type": "code",
   "execution_count": 307,
   "source": [
    "bed = soup.find_all('span',{'class':'infoBed'})\r\n",
    "bed[0].get_text()\r\n"
   ],
   "outputs": [
    {
     "output_type": "execute_result",
     "data": {
      "text/plain": [
       "'4 Beds'"
      ]
     },
     "metadata": {},
     "execution_count": 307
    }
   ],
   "metadata": {}
  },
  {
   "cell_type": "code",
   "execution_count": 352,
   "source": [
    "bath = soup.find_all('span',{'class':'infoValueFullBath'})\r\n",
    "print(bath[3].get_text())\r\n",
    "len(bath)"
   ],
   "outputs": [
    {
     "output_type": "stream",
     "name": "stdout",
     "text": [
      "3 Full Baths\n"
     ]
    },
    {
     "output_type": "execute_result",
     "data": {
      "text/plain": [
       "9"
      ]
     },
     "metadata": {},
     "execution_count": 352
    }
   ],
   "metadata": {}
  },
  {
   "cell_type": "code",
   "execution_count": 366,
   "source": [
    "bed = soup.find_all('span',{'class':'infoBed'})\r\n",
    "bath = soup.find_all('span',{'class':'infoValueFullBath'})\r\n",
    "\r\n",
    "print(bed[0])"
   ],
   "outputs": [
    {
     "output_type": "stream",
     "name": "stdout",
     "text": [
      "<span class=\"infoBed\"><b>4</b> Beds</span>\n"
     ]
    }
   ],
   "metadata": {}
  },
  {
   "cell_type": "code",
   "execution_count": 424,
   "source": [
    "import pandas\r\n",
    "propdf = pandas.DataFrame"
   ],
   "outputs": [],
   "metadata": {}
  },
  {
   "cell_type": "code",
   "execution_count": 435,
   "source": [
    "prop_list = []\r\n",
    "bed = soup.find_all('span',{'class':'infoBed'})\r\n",
    "bath = soup.find_all('span',{'class':'infoValueFullBath'})\r\n",
    "jf = open('p.json','w')\r\n",
    "pro_dict={}\r\n",
    "for p in range(len(property)):\r\n",
    "    title = property[p].find_all('span',{'class':'propAddressCollapse'})[0].get('title')\r\n",
    "    address = property[p].find_all('span',{'class':'propAddressCollapse'})[1].string\r\n",
    "    price = property[p].find_all('input',{'name':'shortCurrency'})[0].get('value')\r\n",
    "    \r\n",
    "    try:\r\n",
    "        if len(bed[p]) >0:\r\n",
    "            #print('ok.')\r\n",
    "            b = bed[p].get_text()\r\n",
    "        else:\r\n",
    "            b=0\r\n",
    "        \r\n",
    "        if len(bath[p]) >0:\r\n",
    "            #print('bath ok',bath[p].get_text())\r\n",
    "            bth = bath[p].get_text()\r\n",
    "        else:\r\n",
    "            #print('no bath')\r\n",
    "            bth = 0        \r\n",
    "    except:\r\n",
    "        pass\r\n",
    "        \r\n",
    " \r\n",
    "    pro_dict = {\"Title\":title,\"Address\":address,\"Price\":price,\"Number of Beds\":b,\"Number of Baths\":bth}        \r\n",
    "    #pro_dict[title] = {\"Address\":address, \"Price\":price, \"Bed\":b, \"Bath\":bth}        \r\n",
    "    json.dump(pro_dict,jf,indent=8)\r\n",
    "    #propdf.to_csv()\r\n",
    "#    print(pro_dict)\r\n",
    "    prop_list.append(pro_dict)  \r\n",
    "print(prop_list)\r\n",
    "    #pro_dict[title] = {\"Address\":address, \"Price\":price, \"Bed\":b, \"Bath\":bth}\r\n",
    "    #print(f\"{title}\\t\\t--{address}\\t\\t--{price}\\t\\t--{b}\\t\\t--{bth}\")\r\n",
    "    #json.dump(pro_dict,f,indent=8)"
   ],
   "outputs": [
    {
     "output_type": "stream",
     "name": "stdout",
     "text": [
      "[{'Title': '0 Gateway', 'Address': 'Rock Springs, WY 82901', 'Price': '$725K', 'Number of Beds': '4 Beds', 'Number of Baths': '4 Full Baths'}, {'Title': '1003 Winchester Blvd.', 'Address': 'Rock Springs, WY 82901', 'Price': '$452K', 'Number of Beds': '5 Beds', 'Number of Baths': '3 Full Baths'}, {'Title': '600 Talladega', 'Address': 'Rock Springs, WY 82901', 'Price': '$396K', 'Number of Beds': '4 Beds', 'Number of Baths': '3 Full Baths'}, {'Title': '3239 Spearhead Way', 'Address': 'Rock Springs, WY 82901', 'Price': '$389K', 'Number of Beds': '3 Beds', 'Number of Baths': '3 Full Baths'}, {'Title': '522 Emerald Street', 'Address': 'Rock Springs, WY 82901', 'Price': '$254K', 'Number of Beds': '4 Beds', 'Number of Baths': '2 Full Baths'}, {'Title': \"1302 Veteran's Drive\", 'Address': 'Rock Springs, WY 82901', 'Price': '$252K', 'Number of Beds': '4 Beds', 'Number of Baths': '3 Full Baths'}, {'Title': '1021 Cypress Cir', 'Address': 'Rock Springs, WY 82901', 'Price': '$210K', 'Number of Beds': '3 Beds', 'Number of Baths': '2 Full Baths'}, {'Title': '913 Madison Dr', 'Address': 'Rock Springs, WY 82901', 'Price': '$209K', 'Number of Beds': '3 Beds', 'Number of Baths': '2 Full Baths'}, {'Title': '1344 Teton Street', 'Address': 'Rock Springs, WY 82901', 'Price': '$199K', 'Number of Beds': '3 Beds', 'Number of Baths': '2 Full Baths'}, {'Title': '4 Minnies Lane', 'Address': 'Rock Springs, WY 82901', 'Price': '$196K', 'Number of Beds': '3 Beds', 'Number of Baths': '2 Full Baths'}]\n"
     ]
    }
   ],
   "metadata": {}
  },
  {
   "cell_type": "code",
   "execution_count": 430,
   "source": [],
   "outputs": [],
   "metadata": {}
  },
  {
   "cell_type": "code",
   "execution_count": 436,
   "source": [
    "prop_list"
   ],
   "outputs": [
    {
     "output_type": "execute_result",
     "data": {
      "text/plain": [
       "[{'Title': '0 Gateway',\n",
       "  'Address': 'Rock Springs, WY 82901',\n",
       "  'Price': '$725K',\n",
       "  'Number of Beds': '4 Beds',\n",
       "  'Number of Baths': '4 Full Baths'},\n",
       " {'Title': '1003 Winchester Blvd.',\n",
       "  'Address': 'Rock Springs, WY 82901',\n",
       "  'Price': '$452K',\n",
       "  'Number of Beds': '5 Beds',\n",
       "  'Number of Baths': '3 Full Baths'},\n",
       " {'Title': '600 Talladega',\n",
       "  'Address': 'Rock Springs, WY 82901',\n",
       "  'Price': '$396K',\n",
       "  'Number of Beds': '4 Beds',\n",
       "  'Number of Baths': '3 Full Baths'},\n",
       " {'Title': '3239 Spearhead Way',\n",
       "  'Address': 'Rock Springs, WY 82901',\n",
       "  'Price': '$389K',\n",
       "  'Number of Beds': '3 Beds',\n",
       "  'Number of Baths': '3 Full Baths'},\n",
       " {'Title': '522 Emerald Street',\n",
       "  'Address': 'Rock Springs, WY 82901',\n",
       "  'Price': '$254K',\n",
       "  'Number of Beds': '4 Beds',\n",
       "  'Number of Baths': '2 Full Baths'},\n",
       " {'Title': \"1302 Veteran's Drive\",\n",
       "  'Address': 'Rock Springs, WY 82901',\n",
       "  'Price': '$252K',\n",
       "  'Number of Beds': '4 Beds',\n",
       "  'Number of Baths': '3 Full Baths'},\n",
       " {'Title': '1021 Cypress Cir',\n",
       "  'Address': 'Rock Springs, WY 82901',\n",
       "  'Price': '$210K',\n",
       "  'Number of Beds': '3 Beds',\n",
       "  'Number of Baths': '2 Full Baths'},\n",
       " {'Title': '913 Madison Dr',\n",
       "  'Address': 'Rock Springs, WY 82901',\n",
       "  'Price': '$209K',\n",
       "  'Number of Beds': '3 Beds',\n",
       "  'Number of Baths': '2 Full Baths'},\n",
       " {'Title': '1344 Teton Street',\n",
       "  'Address': 'Rock Springs, WY 82901',\n",
       "  'Price': '$199K',\n",
       "  'Number of Beds': '3 Beds',\n",
       "  'Number of Baths': '2 Full Baths'},\n",
       " {'Title': '4 Minnies Lane',\n",
       "  'Address': 'Rock Springs, WY 82901',\n",
       "  'Price': '$196K',\n",
       "  'Number of Beds': '3 Beds',\n",
       "  'Number of Baths': '2 Full Baths'}]"
      ]
     },
     "metadata": {},
     "execution_count": 436
    }
   ],
   "metadata": {}
  },
  {
   "cell_type": "code",
   "execution_count": 437,
   "source": [
    "df=pandas.DataFrame(prop_list)"
   ],
   "outputs": [],
   "metadata": {}
  },
  {
   "cell_type": "code",
   "execution_count": 438,
   "source": [
    "df"
   ],
   "outputs": [
    {
     "output_type": "execute_result",
     "data": {
      "text/html": [
       "<div>\n",
       "<style scoped>\n",
       "    .dataframe tbody tr th:only-of-type {\n",
       "        vertical-align: middle;\n",
       "    }\n",
       "\n",
       "    .dataframe tbody tr th {\n",
       "        vertical-align: top;\n",
       "    }\n",
       "\n",
       "    .dataframe thead th {\n",
       "        text-align: right;\n",
       "    }\n",
       "</style>\n",
       "<table border=\"1\" class=\"dataframe\">\n",
       "  <thead>\n",
       "    <tr style=\"text-align: right;\">\n",
       "      <th></th>\n",
       "      <th>Title</th>\n",
       "      <th>Address</th>\n",
       "      <th>Price</th>\n",
       "      <th>Number of Beds</th>\n",
       "      <th>Number of Baths</th>\n",
       "    </tr>\n",
       "  </thead>\n",
       "  <tbody>\n",
       "    <tr>\n",
       "      <th>0</th>\n",
       "      <td>0 Gateway</td>\n",
       "      <td>Rock Springs, WY 82901</td>\n",
       "      <td>$725K</td>\n",
       "      <td>4 Beds</td>\n",
       "      <td>4 Full Baths</td>\n",
       "    </tr>\n",
       "    <tr>\n",
       "      <th>1</th>\n",
       "      <td>1003 Winchester Blvd.</td>\n",
       "      <td>Rock Springs, WY 82901</td>\n",
       "      <td>$452K</td>\n",
       "      <td>5 Beds</td>\n",
       "      <td>3 Full Baths</td>\n",
       "    </tr>\n",
       "    <tr>\n",
       "      <th>2</th>\n",
       "      <td>600 Talladega</td>\n",
       "      <td>Rock Springs, WY 82901</td>\n",
       "      <td>$396K</td>\n",
       "      <td>4 Beds</td>\n",
       "      <td>3 Full Baths</td>\n",
       "    </tr>\n",
       "    <tr>\n",
       "      <th>3</th>\n",
       "      <td>3239 Spearhead Way</td>\n",
       "      <td>Rock Springs, WY 82901</td>\n",
       "      <td>$389K</td>\n",
       "      <td>3 Beds</td>\n",
       "      <td>3 Full Baths</td>\n",
       "    </tr>\n",
       "    <tr>\n",
       "      <th>4</th>\n",
       "      <td>522 Emerald Street</td>\n",
       "      <td>Rock Springs, WY 82901</td>\n",
       "      <td>$254K</td>\n",
       "      <td>4 Beds</td>\n",
       "      <td>2 Full Baths</td>\n",
       "    </tr>\n",
       "    <tr>\n",
       "      <th>5</th>\n",
       "      <td>1302 Veteran's Drive</td>\n",
       "      <td>Rock Springs, WY 82901</td>\n",
       "      <td>$252K</td>\n",
       "      <td>4 Beds</td>\n",
       "      <td>3 Full Baths</td>\n",
       "    </tr>\n",
       "    <tr>\n",
       "      <th>6</th>\n",
       "      <td>1021 Cypress Cir</td>\n",
       "      <td>Rock Springs, WY 82901</td>\n",
       "      <td>$210K</td>\n",
       "      <td>3 Beds</td>\n",
       "      <td>2 Full Baths</td>\n",
       "    </tr>\n",
       "    <tr>\n",
       "      <th>7</th>\n",
       "      <td>913 Madison Dr</td>\n",
       "      <td>Rock Springs, WY 82901</td>\n",
       "      <td>$209K</td>\n",
       "      <td>3 Beds</td>\n",
       "      <td>2 Full Baths</td>\n",
       "    </tr>\n",
       "    <tr>\n",
       "      <th>8</th>\n",
       "      <td>1344 Teton Street</td>\n",
       "      <td>Rock Springs, WY 82901</td>\n",
       "      <td>$199K</td>\n",
       "      <td>3 Beds</td>\n",
       "      <td>2 Full Baths</td>\n",
       "    </tr>\n",
       "    <tr>\n",
       "      <th>9</th>\n",
       "      <td>4 Minnies Lane</td>\n",
       "      <td>Rock Springs, WY 82901</td>\n",
       "      <td>$196K</td>\n",
       "      <td>3 Beds</td>\n",
       "      <td>2 Full Baths</td>\n",
       "    </tr>\n",
       "  </tbody>\n",
       "</table>\n",
       "</div>"
      ],
      "text/plain": [
       "                   Title                 Address  Price Number of Beds  \\\n",
       "0              0 Gateway  Rock Springs, WY 82901  $725K         4 Beds   \n",
       "1  1003 Winchester Blvd.  Rock Springs, WY 82901  $452K         5 Beds   \n",
       "2          600 Talladega  Rock Springs, WY 82901  $396K         4 Beds   \n",
       "3     3239 Spearhead Way  Rock Springs, WY 82901  $389K         3 Beds   \n",
       "4     522 Emerald Street  Rock Springs, WY 82901  $254K         4 Beds   \n",
       "5   1302 Veteran's Drive  Rock Springs, WY 82901  $252K         4 Beds   \n",
       "6       1021 Cypress Cir  Rock Springs, WY 82901  $210K         3 Beds   \n",
       "7         913 Madison Dr  Rock Springs, WY 82901  $209K         3 Beds   \n",
       "8      1344 Teton Street  Rock Springs, WY 82901  $199K         3 Beds   \n",
       "9         4 Minnies Lane  Rock Springs, WY 82901  $196K         3 Beds   \n",
       "\n",
       "  Number of Baths  \n",
       "0    4 Full Baths  \n",
       "1    3 Full Baths  \n",
       "2    3 Full Baths  \n",
       "3    3 Full Baths  \n",
       "4    2 Full Baths  \n",
       "5    3 Full Baths  \n",
       "6    2 Full Baths  \n",
       "7    2 Full Baths  \n",
       "8    2 Full Baths  \n",
       "9    2 Full Baths  "
      ]
     },
     "metadata": {},
     "execution_count": 438
    }
   ],
   "metadata": {}
  },
  {
   "cell_type": "code",
   "execution_count": 439,
   "source": [
    "df.to_csv(\"Property_list.csv\")"
   ],
   "outputs": [],
   "metadata": {}
  },
  {
   "cell_type": "code",
   "execution_count": null,
   "source": [],
   "outputs": [],
   "metadata": {}
  }
 ],
 "metadata": {
  "orig_nbformat": 4,
  "language_info": {
   "name": "python",
   "version": "3.8.8",
   "mimetype": "text/x-python",
   "codemirror_mode": {
    "name": "ipython",
    "version": 3
   },
   "pygments_lexer": "ipython3",
   "nbconvert_exporter": "python",
   "file_extension": ".py"
  },
  "kernelspec": {
   "name": "python3",
   "display_name": "Python 3.8.8 64-bit ('base': conda)"
  },
  "interpreter": {
   "hash": "efdfd2686e573dddf0c043741fac81f80551d77a937eef365896f7d2a67fdf2d"
  }
 },
 "nbformat": 4,
 "nbformat_minor": 2
}