{
 "cells": [
  {
   "cell_type": "code",
   "execution_count": 3,
   "source": [
    "import requests \r\n",
    "from bs4 import BeautifulSoup"
   ],
   "outputs": [],
   "metadata": {}
  },
  {
   "cell_type": "code",
   "execution_count": 51,
   "source": [
    "r = requests.get('https://apnews.com/')\r\n",
    "\r\n",
    "content = r.content\r\n",
    "\r\n",
    "soup = BeautifulSoup(content, 'html.parser')\r\n",
    "\r\n",
    "h1 = soup.find_all('h1')\r\n",
    "h2 = soup.find_all('h2')\r\n",
    "p = soup.find_all('p')\r\n",
    "\r\n",
    "txt = []\r\n",
    "# img = soup.find_all('img')\r\n",
    "\r\n",
    "# for i in img[:]:\r\n",
    "#     with open('link.csv','w') as f:\r\n",
    "#         f.write(i['src']) \r\n",
    "\r\n",
    "for x in p:\r\n",
    "    txt.append(x.text)\r\n",
    "\r\n",
    "with open('p.txt', 'w') as f:\r\n",
    "    f.write(str(txt))\r\n"
   ],
   "outputs": [],
   "metadata": {}
  },
  {
   "cell_type": "code",
   "execution_count": 71,
   "source": [
    "import requests\r\n",
    "from bs4 import BeautifulSoup\r\n",
    "\r\n",
    "yr = requests.get('https://www.youtube.com/')\r\n",
    "\r\n",
    "yt_con = yr.content\r\n",
    "\r\n",
    "y_soup = BeautifulSoup(yt_con,'html.parser')\r\n",
    "\r\n",
    "y_soup.find_all('p')\r\n"
   ],
   "outputs": [
    {
     "output_type": "execute_result",
     "data": {
      "text/plain": [
       "[]"
      ]
     },
     "metadata": {},
     "execution_count": 71
    }
   ],
   "metadata": {}
  },
  {
   "cell_type": "code",
   "execution_count": 80,
   "source": [
    "import requests\r\n",
    "from bs4 import BeautifulSoup \r\n",
    "\r\n",
    "# sending request\r\n",
    "r = requests.get('https://www.gutenberg.org/')\r\n",
    "# getting content\r\n",
    "c = r.content\r\n",
    "\r\n",
    "#passing to Beautifulsoup\r\n",
    "soup = BeautifulSoup(c,\"html.parser\")\r\n",
    "\r\n",
    "pc= soup.prettify()\r\n",
    "\r\n",
    "f = open('guten.html','w')\r\n",
    "f.write(str(c))\r\n",
    "\r\n",
    "\r\n",
    "\r\n",
    "\r\n",
    "\r\n",
    "\r\n",
    "\r\n"
   ],
   "outputs": [
    {
     "output_type": "execute_result",
     "data": {
      "text/plain": [
       "20637"
      ]
     },
     "metadata": {},
     "execution_count": 80
    }
   ],
   "metadata": {}
  },
  {
   "cell_type": "code",
   "execution_count": null,
   "source": [],
   "outputs": [],
   "metadata": {}
  },
  {
   "cell_type": "code",
   "execution_count": null,
   "source": [],
   "outputs": [],
   "metadata": {}
  }
 ],
 "metadata": {
  "orig_nbformat": 4,
  "language_info": {
   "name": "python",
   "version": "3.8.8",
   "mimetype": "text/x-python",
   "codemirror_mode": {
    "name": "ipython",
    "version": 3
   },
   "pygments_lexer": "ipython3",
   "nbconvert_exporter": "python",
   "file_extension": ".py"
  },
  "kernelspec": {
   "name": "python3",
   "display_name": "Python 3.8.8 64-bit ('base': conda)"
  },
  "interpreter": {
   "hash": "efdfd2686e573dddf0c043741fac81f80551d77a937eef365896f7d2a67fdf2d"
  }
 },
 "nbformat": 4,
 "nbformat_minor": 2
}