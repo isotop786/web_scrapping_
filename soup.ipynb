{
 "cells": [
  {
   "cell_type": "code",
   "execution_count": 3,
   "source": [
    "import requests \r\n",
    "from bs4 import BeautifulSoup"
   ],
   "outputs": [],
   "metadata": {}
  },
  {
   "cell_type": "code",
   "execution_count": 51,
   "source": [
    "r = requests.get('https://apnews.com/')\r\n",
    "\r\n",
    "content = r.content\r\n",
    "\r\n",
    "soup = BeautifulSoup(content, 'html.parser')\r\n",
    "\r\n",
    "h1 = soup.find_all('h1')\r\n",
    "h2 = soup.find_all('h2')\r\n",
    "p = soup.find_all('p')\r\n",
    "\r\n",
    "txt = []\r\n",
    "# img = soup.find_all('img')\r\n",
    "\r\n",
    "# for i in img[:]:\r\n",
    "#     with open('link.csv','w') as f:\r\n",
    "#         f.write(i['src']) \r\n",
    "\r\n",
    "for x in p:\r\n",
    "    txt.append(x.text)\r\n",
    "\r\n",
    "with open('p.txt', 'w') as f:\r\n",
    "    f.write(str(txt))\r\n"
   ],
   "outputs": [],
   "metadata": {}
  },
  {
   "cell_type": "code",
   "execution_count": 71,
   "source": [
    "import requests\r\n",
    "from bs4 import BeautifulSoup\r\n",
    "\r\n",
    "yr = requests.get('https://www.youtube.com/')\r\n",
    "\r\n",
    "yt_con = yr.content\r\n",
    "\r\n",
    "y_soup = BeautifulSoup(yt_con,'html.parser')\r\n",
    "\r\n",
    "y_soup.find_all('p')\r\n"
   ],
   "outputs": [
    {
     "output_type": "execute_result",
     "data": {
      "text/plain": [
       "[]"
      ]
     },
     "metadata": {},
     "execution_count": 71
    }
   ],
   "metadata": {}
  },
  {
   "cell_type": "code",
   "execution_count": 153,
   "source": [
    "import requests\r\n",
    "from bs4 import BeautifulSoup \r\n",
    "\r\n",
    "# sending request\r\n",
    "r = requests.get('https://www.gutenberg.org/')\r\n",
    "# getting content\r\n",
    "c = r.content\r\n",
    "\r\n",
    "#passing to Beautifulsoup\r\n",
    "soup = BeautifulSoup(c,\"html.parser\")\r\n",
    "\r\n",
    "#pc= soup.prettify()\r\n",
    "\r\n",
    "all = soup.find_all(\"div\")\r\n",
    "\r\n",
    "ul = soup.find_all(\"ul\",{\"class\":\"sub-menu\"})\r\n",
    "\r\n",
    "li = ul[0].find_all(\"li\")\r\n",
    "\r\n",
    "a = soup.find_all('a')\r\n",
    "\r\n",
    "\r\n",
    "\r\n"
   ],
   "outputs": [],
   "metadata": {}
  },
  {
   "cell_type": "code",
   "execution_count": 177,
   "source": [
    "link ={}\r\n",
    "for a in soup.find_all('a',href=True):\r\n",
    "    link[a.text] = a['href']\r\n",
    "    #print(a['href'],a.text)"
   ],
   "outputs": [],
   "metadata": {}
  },
  {
   "cell_type": "code",
   "execution_count": 178,
   "source": [
    "link"
   ],
   "outputs": [
    {
     "output_type": "execute_result",
     "data": {
      "text/plain": [
       "{'\\n\\n': 'https://www.ibiblio.org/',\n",
       " 'About\\n          ▾\\n': '/about/',\n",
       " 'About Project Gutenberg': '/about/',\n",
       " 'Collection Development': '/policy/collection_development.html',\n",
       " 'Contact Us': '/about/contact_information.html',\n",
       " 'History & Philosophy': '/about/background/',\n",
       " 'Permissions & License': '/policy/permission.html',\n",
       " 'Privacy Policy': '/policy/privacy_policy.html',\n",
       " 'Terms of Use': '/policy/terms_of_use.html',\n",
       " 'Search and Browse\\n      \\t  ▾\\n': '/ebooks/',\n",
       " 'Book Search': '/ebooks/',\n",
       " 'Bookshelves': '/ebooks/bookshelf/',\n",
       " 'Frequently Downloaded': '/browse/scores/top',\n",
       " 'Offline Catalogs': '/ebooks/offline_catalogs.html',\n",
       " 'Help\\n          ▾\\n': '/help/',\n",
       " 'All help topics →': '/help/',\n",
       " 'Copyright Procedures': '/help/copyright.html',\n",
       " 'Errata, Fixes and Bug Reports': '/help/errata.html',\n",
       " 'File Formats': '/help/file_formats.html',\n",
       " 'Frequently Asked Questions': '/help/faq.html',\n",
       " 'Policies →': '/policy/',\n",
       " 'Public Domain eBook Submission': '/help/public_domain_ebook_submission.html',\n",
       " 'Submitting Your Own Work': '/help/submitting_your_own_work.html',\n",
       " 'Tablets, Phones and eReaders': '/help/mobile.html',\n",
       " 'The Attic →': '/attic/',\n",
       " 'Donate': '/donate/',\n",
       " 'Donation': '/donate/',\n",
       " '\\n\\n\\n\\n\\n\\nThe Invasion of India by Alexander the Great as described by Arrian, Q. Curtius,\\n\\n\\n': '/ebooks/66388',\n",
       " '\\n\\n\\n\\n\\n\\nTravels into Bokhara (Volume 3 of 3)\\n\\n\\n': '/ebooks/66386',\n",
       " '\\n\\n\\n\\n\\n\\n“Horse Sense” in Verses Tense\\n\\n\\n': '/ebooks/66385',\n",
       " '\\n\\n\\n\\n\\n\\nMarkenmoren salaisuus\\n\\n\\n': '/ebooks/66384',\n",
       " '\\n\\n\\n\\n\\n\\nThe Kings of the East\\n\\n\\n': '/ebooks/66383',\n",
       " '\\n\\n\\n\\n\\n\\nA Girl of To day\\n\\n\\n': '/ebooks/66382',\n",
       " '\\n\\n\\n\\n\\n\\nMessenger\\n\\n\\n': '/ebooks/66381',\n",
       " '\\n\\n\\n\\n\\n\\nThe Incredible Aliens\\n\\n\\n': '/ebooks/66380',\n",
       " '\\n\\n\\n\\n\\n\\nBirthday Present\\n\\n\\n': '/ebooks/66379',\n",
       " '\\n\\n\\n\\n\\n\\nViaggio al Capo Nord\\n\\n\\n': '/ebooks/66378',\n",
       " 'Click Here for more latest books!': '/browse/recent/last1',\n",
       " 'first eBook': '/ebooks/1',\n",
       " 'Read more about this lasting innovation': '/about/background/50years.html',\n",
       " 'Search and browse': '/ebooks/',\n",
       " 'Frequently downloaded': '/browse/scores/top',\n",
       " 'by popularity': '/ebooks/search/?sort_order=downloads',\n",
       " 'Offline catalogs': '/ebooks/offline_catalogs.html',\n",
       " 'Recently added': '/ebooks/search/?query=&submit_search=Search&sort_order=release_date',\n",
       " 'self.gutenberg.org': 'http://self.gutenberg.org',\n",
       " 'Help, How-To and FAQs': '/help/',\n",
       " 'Tablets, phones and eReaders How-To': '/help/mobile.html',\n",
       " 'Distributed Proofreaders': 'https://www.pgdp.net',\n",
       " 'Fix and improve': '/help/errata.html',\n",
       " 'LibriVox': 'https://librivox.org',\n",
       " 'Donating to Project Gutenberg': '/donate/',\n",
       " 'Feeds': '/ebooks/feeds.html',\n",
       " 'Linking to Project Gutenberg': '/policy/linking.html',\n",
       " 'roboting or crawling': '/policy/robot_access.html',\n",
       " 'Partners and affiliates': '/about/partners_affiliates.html',\n",
       " 'Permissions, copyright, licensing, and trademark information': '/policy/permission.html',\n",
       " 'free eBook': '/about/background/free_ebook.html',\n",
       " 'here': '/policy/terms_of_use.html',\n",
       " 'Privacy policy': '/policy/privacy_policy.html',\n",
       " 'Contact Information': '/about/contact_information.html',\n",
       " 'Get Help': '/help/'}"
      ]
     },
     "metadata": {},
     "execution_count": 178
    }
   ],
   "metadata": {}
  },
  {
   "cell_type": "code",
   "execution_count": 170,
   "source": [
    "import json\r\n",
    "\r\n",
    "with open('link.json', 'w') as f:\r\n",
    "    json.dump(link,f)\r\n",
    "\r\n",
    "ex = open('link.csv','a')\r\n",
    "ex.write(str(link))\r\n",
    "\r\n",
    "    \r\n",
    "    "
   ],
   "outputs": [
    {
     "output_type": "error",
     "ename": "UnicodeEncodeError",
     "evalue": "'charmap' codec can't encode character '\\u25be' in position 55: character maps to <undefined>",
     "traceback": [
      "\u001b[1;31m---------------------------------------------------------------------------\u001b[0m",
      "\u001b[1;31mUnicodeEncodeError\u001b[0m                        Traceback (most recent call last)",
      "\u001b[1;32m~\\AppData\\Local\\Temp/ipykernel_22160/2069940988.py\u001b[0m in \u001b[0;36m<module>\u001b[1;34m\u001b[0m\n\u001b[0;32m      5\u001b[0m \u001b[1;33m\u001b[0m\u001b[0m\n\u001b[0;32m      6\u001b[0m \u001b[0mex\u001b[0m \u001b[1;33m=\u001b[0m \u001b[0mopen\u001b[0m\u001b[1;33m(\u001b[0m\u001b[1;34m'link.csv'\u001b[0m\u001b[1;33m,\u001b[0m\u001b[1;34m'a'\u001b[0m\u001b[1;33m)\u001b[0m\u001b[1;33m\u001b[0m\u001b[1;33m\u001b[0m\u001b[0m\n\u001b[1;32m----> 7\u001b[1;33m \u001b[0mex\u001b[0m\u001b[1;33m.\u001b[0m\u001b[0mwrite\u001b[0m\u001b[1;33m(\u001b[0m\u001b[0mstr\u001b[0m\u001b[1;33m(\u001b[0m\u001b[0mlink\u001b[0m\u001b[1;33m)\u001b[0m\u001b[1;33m)\u001b[0m\u001b[1;33m\u001b[0m\u001b[1;33m\u001b[0m\u001b[0m\n\u001b[0m\u001b[0;32m      8\u001b[0m \u001b[1;33m\u001b[0m\u001b[0m\n\u001b[0;32m      9\u001b[0m \u001b[1;33m\u001b[0m\u001b[0m\n",
      "\u001b[1;32m~\\anaconda3\\lib\\encodings\\cp1252.py\u001b[0m in \u001b[0;36mencode\u001b[1;34m(self, input, final)\u001b[0m\n\u001b[0;32m     17\u001b[0m \u001b[1;32mclass\u001b[0m \u001b[0mIncrementalEncoder\u001b[0m\u001b[1;33m(\u001b[0m\u001b[0mcodecs\u001b[0m\u001b[1;33m.\u001b[0m\u001b[0mIncrementalEncoder\u001b[0m\u001b[1;33m)\u001b[0m\u001b[1;33m:\u001b[0m\u001b[1;33m\u001b[0m\u001b[1;33m\u001b[0m\u001b[0m\n\u001b[0;32m     18\u001b[0m     \u001b[1;32mdef\u001b[0m \u001b[0mencode\u001b[0m\u001b[1;33m(\u001b[0m\u001b[0mself\u001b[0m\u001b[1;33m,\u001b[0m \u001b[0minput\u001b[0m\u001b[1;33m,\u001b[0m \u001b[0mfinal\u001b[0m\u001b[1;33m=\u001b[0m\u001b[1;32mFalse\u001b[0m\u001b[1;33m)\u001b[0m\u001b[1;33m:\u001b[0m\u001b[1;33m\u001b[0m\u001b[1;33m\u001b[0m\u001b[0m\n\u001b[1;32m---> 19\u001b[1;33m         \u001b[1;32mreturn\u001b[0m \u001b[0mcodecs\u001b[0m\u001b[1;33m.\u001b[0m\u001b[0mcharmap_encode\u001b[0m\u001b[1;33m(\u001b[0m\u001b[0minput\u001b[0m\u001b[1;33m,\u001b[0m\u001b[0mself\u001b[0m\u001b[1;33m.\u001b[0m\u001b[0merrors\u001b[0m\u001b[1;33m,\u001b[0m\u001b[0mencoding_table\u001b[0m\u001b[1;33m)\u001b[0m\u001b[1;33m[\u001b[0m\u001b[1;36m0\u001b[0m\u001b[1;33m]\u001b[0m\u001b[1;33m\u001b[0m\u001b[1;33m\u001b[0m\u001b[0m\n\u001b[0m\u001b[0;32m     20\u001b[0m \u001b[1;33m\u001b[0m\u001b[0m\n\u001b[0;32m     21\u001b[0m \u001b[1;32mclass\u001b[0m \u001b[0mIncrementalDecoder\u001b[0m\u001b[1;33m(\u001b[0m\u001b[0mcodecs\u001b[0m\u001b[1;33m.\u001b[0m\u001b[0mIncrementalDecoder\u001b[0m\u001b[1;33m)\u001b[0m\u001b[1;33m:\u001b[0m\u001b[1;33m\u001b[0m\u001b[1;33m\u001b[0m\u001b[0m\n",
      "\u001b[1;31mUnicodeEncodeError\u001b[0m: 'charmap' codec can't encode character '\\u25be' in position 55: character maps to <undefined>"
     ]
    }
   ],
   "metadata": {}
  },
  {
   "cell_type": "code",
   "execution_count": null,
   "source": [],
   "outputs": [],
   "metadata": {}
  },
  {
   "cell_type": "code",
   "execution_count": 151,
   "source": [
    "al = []\r\n",
    "for i in range(len(li)):\r\n",
    "    a = li[i].find_all('a')\r\n",
    "    print(a)\r\n",
    "    al.append(a[0].text)\r\n",
    "    if \"href\" in a[0]:\r\n",
    "        print(\"fo\")\r\n",
    "\r\n",
    "al"
   ],
   "outputs": [
    {
     "output_type": "stream",
     "name": "stdout",
     "text": [
      "[<a href=\"/about/\">About Project Gutenberg</a>]\n",
      "[<a href=\"/policy/collection_development.html\">Collection Development</a>]\n",
      "[<a href=\"/about/contact_information.html\">Contact Us</a>]\n",
      "[<a href=\"/about/background/\">History &amp; Philosophy</a>]\n",
      "[<a href=\"/policy/permission.html\">Permissions &amp; License</a>]\n",
      "[<a href=\"/policy/privacy_policy.html\">Privacy Policy</a>]\n",
      "[<a href=\"/policy/terms_of_use.html\">Terms of Use</a>]\n"
     ]
    },
    {
     "output_type": "execute_result",
     "data": {
      "text/plain": [
       "['About Project Gutenberg',\n",
       " 'Collection Development',\n",
       " 'Contact Us',\n",
       " 'History & Philosophy',\n",
       " 'Permissions & License',\n",
       " 'Privacy Policy',\n",
       " 'Terms of Use']"
      ]
     },
     "metadata": {},
     "execution_count": 151
    }
   ],
   "metadata": {}
  },
  {
   "cell_type": "code",
   "execution_count": 118,
   "source": [
    "\r\n",
    "f = open('list.csv', 'a')\r\n",
    "for x in li:\r\n",
    "    c = x.text+\", \"\r\n",
    "    f.write(c)\r\n",
    "    print(x.text)"
   ],
   "outputs": [
    {
     "output_type": "stream",
     "name": "stdout",
     "text": [
      "About Project Gutenberg\n",
      "Collection Development\n",
      "Contact Us\n",
      "History & Philosophy\n",
      "Permissions & License\n",
      "Privacy Policy\n",
      "Terms of Use\n"
     ]
    }
   ],
   "metadata": {}
  },
  {
   "cell_type": "code",
   "execution_count": 186,
   "source": [
    "w3_r = requests.get(\"https://www.w3shools.com\")\r\n",
    "cont = w3_r.content\r\n",
    "\r\n",
    "w3_s = BeautifulSoup(cont,\"html.parser\")"
   ],
   "outputs": [],
   "metadata": {}
  },
  {
   "cell_type": "code",
   "execution_count": 195,
   "source": [
    "a = w3_s.find_all('h1')\r\n",
    "a"
   ],
   "outputs": [
    {
     "output_type": "execute_result",
     "data": {
      "text/plain": [
       "[<h1>www.w3shools.com</h1>]"
      ]
     },
     "metadata": {},
     "execution_count": 195
    }
   ],
   "metadata": {}
  },
  {
   "cell_type": "code",
   "execution_count": 196,
   "source": [
    "mr = requests.get('https://www5.himovies.to/')\r\n",
    "c = mr._content\r\n",
    "\r\n",
    "ms = BeautifulSoup(c,\"html.parser\")"
   ],
   "outputs": [],
   "metadata": {}
  },
  {
   "cell_type": "code",
   "execution_count": 197,
   "source": [
    "ms"
   ],
   "outputs": [
    {
     "output_type": "execute_result",
     "data": {
      "text/plain": [
       "<!DOCTYPE html>\n",
       "\n",
       "<html lang=\"en\" xml:lang=\"en\" xmlns=\"http://www.w3.org/1999/xhtml\">\n",
       "<head>\n",
       "<title>HiMovies.to | Watch Movies Online, Stream Tv Shows online Free</title>\n",
       "<meta content=\"index, follow\" name=\"robots\"/>\n",
       "<meta content=\"1 days\" name=\"revisit-after\"/>\n",
       "<meta content=\"text/html; charset=utf-8\" http-equiv=\"Content-Type\">\n",
       "<meta content=\"en\" http-equiv=\"content-language\">\n",
       "<meta content=\"Watch Series online and Stream movies online for free, update daily, HD quality\" name=\"description\"/>\n",
       "<meta content=\"watch movies online, stream tv shows online, watch movies free, full hd movies free, watch series online, stream movies online\" name=\"keywords\"/>\n",
       "<meta content=\"width=device-width, initial-scale=1, minimum-scale=1, maximum-scale=1\" name=\"viewport\"/>\n",
       "<link href=\"/images/group_1/theme_1/favicon.png\" rel=\"shortcut icon\" type=\"image/x-icon\"/>\n",
       "<meta content=\"website\" property=\"og:type\"/>\n",
       "<meta content=\"https://www5.himovies.to/\" property=\"og:url\"/>\n",
       "<meta content=\"HiMovies.to | Watch Movies Online, Stream Tv Shows online Free\" property=\"og:title\"/>\n",
       "<meta content=\"https://www5.himovies.to/images/group_1/theme_1/capture.jpg?v=0.3\" property=\"og:image\"/>\n",
       "<meta content=\"650\" property=\"og:image:width\"/>\n",
       "<meta content=\"350\" property=\"og:image:height\"/>\n",
       "<meta content=\"Watch Series online and Stream movies online for free, update daily, HD quality\" property=\"og:description\">\n",
       "<meta content=\"width=device-width, initial-scale=1, minimum-scale=1, maximum-scale=1\" name=\"viewport\">\n",
       "<!--Begin: Stylesheet-->\n",
       "<link href=\"https://stackpath.bootstrapcdn.com/bootstrap/4.4.1/css/bootstrap.min.css\" rel=\"stylesheet\"/>\n",
       "<link href=\"https://use.fontawesome.com/releases/v5.3.1/css/all.css\" rel=\"stylesheet\"/>\n",
       "<link href=\"/css/group_1/theme_1/home.css?v=0.3\" rel=\"stylesheet\"/>\n",
       "<!--End: Stylesheet-->\n",
       "<script src=\"https://cdnjs.cloudflare.com/ajax/libs/vue/2.6.10/vue.min.js\"></script>\n",
       "<!-- Global site tag (gtag.js) - Google Analytics -->\n",
       "<script async=\"\" src=\"https://www.googletagmanager.com/gtag/js?id=UA-150070805-1\"></script>\n",
       "<script>\n",
       "  window.dataLayer = window.dataLayer || [];\n",
       "  function gtag(){dataLayer.push(arguments);}\n",
       "  gtag('js', new Date());\n",
       "\n",
       "  gtag('config', 'UA-150070805-1');\n",
       "</script>\n",
       "<script data-cfasync=\"false\" src=\"//cauntercanulae.com/rNQ2ukEhZ2C4Nf2Oo/33070\" type=\"text/javascript\"></script>\n",
       "<script async=\"\" src=\"https://cdn.onesignal.com/sdks/OneSignalSDK.js\"></script>\n",
       "<script>\n",
       "            var OneSignal = window.OneSignal || [];\n",
       "            OneSignal.push(function () {\n",
       "                OneSignal.init({\n",
       "                    appId: \"c084c64b-84cc-4189-a9ed-6592b960b9db\",\n",
       "                    promptOptions: {\n",
       "                        actionMessage: \"Please allow Push Notification so we can Update you after Streaming issue is fixed.\",\n",
       "                        acceptButtonText: \"ALLOW\",\n",
       "                        cancelButtonText: \"NO THANKS\"\n",
       "                    },\n",
       "                    notifyButton: {\n",
       "                        enable: false\n",
       "                    },\n",
       "                    autoResubscribe: true,\n",
       "                    showCredit: false\n",
       "                });\n",
       "                OneSignal.push(function () {\n",
       "                    OneSignal.showHttpPrompt();\n",
       "                });\n",
       "            });\n",
       "        </script>\n",
       "</meta></meta></meta></meta></head>\n",
       "<body>\n",
       "<div id=\"app\">\n",
       "<div id=\"xwrapper\">\n",
       "<!--Begin: Header-->\n",
       "<div id=\"xheader\">\n",
       "<div class=\"container\">\n",
       "<a href=\"/\" id=\"xlogo\" title=\"HiMovies.to\">\n",
       "<img alt=\"Logo\" src=\"/images/group_1/theme_1/logo.png?v=0.1\"/>\n",
       "<div class=\"clearfix\"></div>\n",
       "</a>\n",
       "<div id=\"xheader_browser\">\n",
       "<div class=\"header-btn\"><i class=\"fas fa-bars mr-2\"></i>Menu</div>\n",
       "</div>\n",
       "<div id=\"xheader_menu\">\n",
       "<ul class=\"nav header_menu-list\">\n",
       "<li class=\"nav-item\"><a href=\"/home\" title=\"Home\">Home</a>\n",
       "</li>\n",
       "<li class=\"nav-item\"><a href=\"/movie\" title=\"Movies\">Movies</a></li>\n",
       "<li class=\"nav-item\"><a href=\"/tv-show\" title=\"TV Shows\">TV Shows</a></li>\n",
       "<li class=\"nav-item\"><a href=\"/top-imdb\" title=\"Top IMDB\">Top IMDB</a></li>\n",
       "</ul>\n",
       "<div class=\"clearfix\"></div>\n",
       "</div>\n",
       "<div class=\"clearfix\"></div>\n",
       "</div>\n",
       "</div>\n",
       "<!--End: Header-->\n",
       "<!--Begin: Main-->\n",
       "<div id=\"xmain-wrapper\">\n",
       "<div class=\"container\">\n",
       "<div id=\"mw-home\">\n",
       "<div class=\"mwh-logo\">\n",
       "<a class=\"mwh-logo-div\" href=\"/home\" title=\"HiMovies.to\">\n",
       "<img alt=\"Logo\" src=\"/images/group_1/theme_1/logo.png?v=0.1\"/>\n",
       "</a>\n",
       "<div class=\"clearfix\"></div>\n",
       "</div>\n",
       "<div class=\"text-center heading-center\">\n",
       "<h6 class=\"mw-sitename\">HiMovies.to</h6>\n",
       "<h1 class=\"mw-heading\" style=\"display: none;\">HiMovies.to | Watch Movies Online, Stream Tv Shows online Free</h1>\n",
       "</div>\n",
       "<div class=\"home-search\" id=\"xsearch\">\n",
       "<div class=\"search-content\">\n",
       "<form @submit=\"search\" class=\"search-form\">\n",
       "<div class=\"search-submit\">\n",
       "<div @click=\"search\" class=\"search-icon\"><i class=\"fa fa-search\"></i></div>\n",
       "</div>\n",
       "<input class=\"form-control search-input\" placeholder=\"Enter keywords...\" type=\"text\" v-model=\"keyword\"/>\n",
       "</form>\n",
       "</div>\n",
       "</div>\n",
       "<div class=\"addthis_inline_share_toolbox\" data-url=\"https://himovies.to/\" style=\"margin-top: 20px; margin-bottom: 20px; text-align: center;\"></div>\n",
       "<div class=\"mw-buttons text-center mb-5\"><a class=\"btn btn-lg btn-radius btn-primary\" href=\"/home\">View\n",
       "                            Full Site <i class=\"fas fa-arrow-circle-right ml-2\"></i></a></div>\n",
       "<div class=\"mw-body mb-5\">\n",
       "<p style=\"text-align:center\">Watch movies online for free and watch tv shows online free with HiMovies.to</p>\n",
       "<p style=\"text-align:center\">If you are looking to stream and download free movies and TV shows, HiMovies might be your best friend. <br/>\n",
       "Although HiMovies has been around for only 3 years, with its outstanding features, it is currently one of most reliable and the best movies streaming site on the net.</p>\n",
       "<p><strong>What is HiMovies?</strong><br/>\n",
       "Launched in 2019, HiMovies aims to provide movies and TV shows for its users to stream movies and series online and download them in HD quality without paying any dime. HiMovies has been growing steadily since it the very first days of its launch.</p>\n",
       "<p><strong>Is HiMovies safe?</strong><br/>\n",
       "HiMovies is considered as a safe website by its users as the site is clean even after a sweep through its html code. And all the ads network are reviewed daily to make sure there will be no harmful ads on the site. We recommend you using a VPN to stay anonymous and to get better streaming speed. </p>\n",
       "<p><strong>Is using HiMovies legal?</strong><br/>\n",
       "Streaming Free HD Movies on HiMovies is totally legal, it's only illegal if you download and store the movies on your device, that's why HiMovies currently does not have a download option.</p>\n",
       "<p><strong>Websites like HiMovies: Best alternative to HiMovies?</strong><br/>\n",
       "There are thousands of free online movie streaming sites to be found on the Internet, but only a small amount of them is safe and reliable. If you cannot access HiMovies, try some other similar sites such as 123movies, gomovies, 6movies, and fmovies.  </p>\n",
       "<p><strong>Is there a HiMovies app for mobile/ipad/tv?</strong><br/>\n",
       "To enjoy faster streaming speed, Chromecast built-in, absolutely no ads, and better customer care, you should install the HiMovies Android Movies Apk for your Android devices. You can find the <strong><a href=\"https://www5.himovies.to/android-movies-apk\"><span style=\"color:#ecf0f1\">HiMovies Android apk on this page</span></a></strong></p>\n",
       "<p>True happiness costs nothing, so does HiMovies. Let’s take a look at the site’s review to understand why you should stop paying for N*tflix and start using this site.  </p>\n",
       "<p style=\"text-align:center\"><br/>\n",
       "<span style=\"font-size:20px\"><strong>HiMovies review</strong></span></p>\n",
       "<p>Despite being the new kid on the block, HiMovies has gained massive support from movie enthusiasts all over the world thanks to these features: <br/>\n",
       "<strong><span style=\"background-color:#999999\">1. Safety</span></strong><br/>\n",
       "As stated above, HiMovies is a safe and reliable site to stream movies online as long as you take precautions. Use a VPN and AdBlock extension before accessing the site for your ultimate safety. </p>\n",
       "<p><strong><span style=\"background-color:#999999\">2. Extensive content library</span></strong><br/>\n",
       "HiMovies hosts a huge collection of up to 300,000 movies and TV shows. You can find here the latest releases, the goldie oldies, and even the regional gems. New titles are uploaded daily so expect it to get only bigger and bigger. <br/>\n",
       "Another good thing about HiMovies is that it provides multiple subtitles for our convenience. You can turn on English, Spanish, or German subtitle to enjoy the content to the fullest. </p>\n",
       "<p><strong><span style=\"background-color:#999999\">3. Fast updates</span></strong><br/>\n",
       "HiMovies is among the fastest streaming sites to update the latest releases. New titles are uploaded on a daily basis to make sure your source of entertainment will never end. </p>\n",
       "<p><strong><span style=\"background-color:#999999\">4. Resolution</span></strong><br/>\n",
       "HiMovies offers the best resolution available. Most of its contents are in HD quality, however, expect CAM quality for the newly-released movies in theaters and SD quality for the oldies.  </p>\n",
       "<p><strong><span style=\"background-color:#999999\">5. Streaming experience</span></strong><br/>\n",
       "The streaming is as smooth as it is on paid streaming services. Loading speed is fast, seamless streaming is on point, ads are minimal, don’t they sound too good to be true? </p>\n",
       "<p><strong><span style=\"background-color:#999999\">6. User-friendly interface</span></strong><br/>\n",
       "The site is extremely easy to browse and navigate. If you have a specific name in mind, you can enter its title in the search box. If not, you can search by categories or click on “View Full Site” to look for something that catches your eye. <br/>\n",
       "On the landing page, you can quickly check out the trending titles, the latest ones, and even movies and TV shows that are still not released yet. </p>\n",
       "<p><strong><span style=\"background-color:#999999\">7. Device compatibility</span></strong><br/>\n",
       "As HiMovies is mobile friendly and Chromecast supported, you can stream its free movies and TV shows on your phones, tablets, or even big screen TVs.  </p>\n",
       "<p><strong><span style=\"background-color:#999999\">8. Ads and popups</span></strong><br/>\n",
       "HiMovies is not bombarded with ads. You will have to sit through one or two ads before the video starts but as ads is their only source of income, it’s unavoidable. <br/>\n",
       "Popups can be avoided with an AdBlock extension. </p>\n",
       "<p><strong><span style=\"background-color:#999999\">9. No account or registration needed</span></strong><br/>\n",
       "You don’t need a signup or registration to enjoy free movies and TV shows at HiMovies. All you need is stable Internet, a device to watch, and a visit to https://HiMovies.to/</p>\n",
       "<p><strong><span style=\"background-color:#999999\">10. Customer service</span></strong><br/>\n",
       "Unlike most free streaming sites, HiMovies listens to its users. The site is open to connect with on Facebook, Twitter,  Telegram, email, etc. If you have any issue, simply shoot them a message. Or if streaming links are broken or your movie of interest is not available, make a request and they will have it fixed within a day. </p>\n",
       "</div>\n",
       "<div class=\"mw-buttons text-center\"><a class=\"btn btn-lg btn-radius btn-primary\" href=\"/home\">Go\n",
       "                            to HiMovies.to <i class=\"fas fa-arrow-circle-right ml-2\"></i></a></div>\n",
       "</div>\n",
       "</div>\n",
       "</div>\n",
       "<!--End: Main-->\n",
       "<!--Begin: Footer-->\n",
       "<div id=\"xfooter\">\n",
       "<div class=\"container\">\n",
       "<div class=\"footer-links\">\n",
       "<ul class=\"ulclear\">\n",
       "<li><a href=\"/android-movies-apk\" title=\"Android App\">Android App</a></li>\n",
       "<li><a href=\"/terms\" title=\"Terms of service\">Terms of service</a></li>\n",
       "<li><a href=\"/contact\" title=\"Contact\">Contact</a></li>\n",
       "<li><a href=\"/sitemap.xml\" title=\"Sitemap\">Sitemap</a></li>\n",
       "<li><a href=\"https://fmovies.app/\" rel=\"dofollow\" target=\"_blank\" title=\"fmovies\">fmovies</a>\n",
       "<li><a href=\"https://9anime.vc/\" rel=\"dofollow\" target=\"_blank\" title=\"9anime\">9anime</a>\n",
       "</li>\n",
       "</li></ul>\n",
       "</div>\n",
       "<div class=\"clearfix\"></div>\n",
       "</div>\n",
       "</div>\n",
       "<div id=\"xfooter-about\">\n",
       "<div class=\"container\">\n",
       "<div class=\"about-text\">\n",
       "                    HiMovies.to is a Free Movies streaming site with zero ads.\n",
       "                    We let you watch movies online without having to register or paying, with over 10000 movies and\n",
       "                    TV-Series.\n",
       "                    You can also Download full movies from MoviesCloud and watch it later if you want.\n",
       "                </div>\n",
       "<p class=\"copyright\">© HiMovies.to</p>\n",
       "</div>\n",
       "</div>\n",
       "<!--End: Footer-->\n",
       "</div>\n",
       "</div>\n",
       "<script src=\"https://ajax.googleapis.com/ajax/libs/jquery/3.3.1/jquery.min.js\" type=\"text/javascript\"></script>\n",
       "<script src=\"https://maxcdn.bootstrapcdn.com/bootstrap/4.1.3/js/bootstrap.min.js\" type=\"text/javascript\"></script>\n",
       "<script async=\"\" src=\"//s7.addthis.com/js/300/addthis_widget.js#pubid=ra-5da59293a14f83e9\" type=\"text/javascript\"></script>\n",
       "<script>var currPage = 'home_search';</script>\n",
       "<script src=\"/js/group_1/app.min.js?v=5.9\" type=\"text/javascript\"></script>\n",
       "<script async=\"\" data-cfasync=\"false\" src=\"//driddleurease.com/ft51E24KQvP/33071\" type=\"text/javascript\"></script>\n",
       "<script>\n",
       "    $(document).ready(function () {\n",
       "        $(\"#xheader_browser\").click(function (e) {\n",
       "            $(\"#xheader_menu, #xheader_browser\").toggleClass(\"active\");\n",
       "        });\n",
       "    });\n",
       "</script>\n",
       "</body>\n",
       "</html>"
      ]
     },
     "metadata": {},
     "execution_count": 197
    }
   ],
   "metadata": {}
  },
  {
   "cell_type": "code",
   "execution_count": null,
   "source": [],
   "outputs": [],
   "metadata": {}
  }
 ],
 "metadata": {
  "orig_nbformat": 4,
  "language_info": {
   "name": "python",
   "version": "3.8.8",
   "mimetype": "text/x-python",
   "codemirror_mode": {
    "name": "ipython",
    "version": 3
   },
   "pygments_lexer": "ipython3",
   "nbconvert_exporter": "python",
   "file_extension": ".py"
  },
  "kernelspec": {
   "name": "python3",
   "display_name": "Python 3.8.8 64-bit ('base': conda)"
  },
  "interpreter": {
   "hash": "efdfd2686e573dddf0c043741fac81f80551d77a937eef365896f7d2a67fdf2d"
  }
 },
 "nbformat": 4,
 "nbformat_minor": 2
}