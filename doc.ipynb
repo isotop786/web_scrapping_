{
 "cells": [
  {
   "cell_type": "code",
   "execution_count": 1,
   "source": [
    "html_doc = \"\"\"<html><head><title>The Dormouse's story</title></head>\r\n",
    "<body>\r\n",
    "<p class=\"title\"><b>The Dormouse's story</b></p>\r\n",
    "\r\n",
    "<p class=\"story\">Once upon a time there were three little sisters; and their names were\r\n",
    "<a href=\"http://example.com/elsie\" class=\"sister\" id=\"link1\">Elsie</a>,\r\n",
    "<a href=\"http://example.com/lacie\" class=\"sister\" id=\"link2\">Lacie</a> and\r\n",
    "<a href=\"http://example.com/tillie\" class=\"sister\" id=\"link3\">Tillie</a>;\r\n",
    "and they lived at the bottom of a well.</p>\r\n",
    "\r\n",
    "<p class=\"story\">...</p>\r\n",
    "\"\"\""
   ],
   "outputs": [],
   "metadata": {}
  },
  {
   "cell_type": "code",
   "execution_count": 3,
   "source": [
    "from bs4 import BeautifulSoup\r\n",
    "soup = BeautifulSoup(html_doc,'html.parser')\r\n",
    "print(soup.prettify())"
   ],
   "outputs": [
    {
     "output_type": "stream",
     "name": "stdout",
     "text": [
      "<html>\n",
      " <head>\n",
      "  <title>\n",
      "   The Dormouse's story\n",
      "  </title>\n",
      " </head>\n",
      " <body>\n",
      "  <p class=\"title\">\n",
      "   <b>\n",
      "    The Dormouse's story\n",
      "   </b>\n",
      "  </p>\n",
      "  <p class=\"story\">\n",
      "   Once upon a time there were three little sisters; and their names were\n",
      "   <a class=\"sister\" href=\"http://example.com/elsie\" id=\"link1\">\n",
      "    Elsie\n",
      "   </a>\n",
      "   ,\n",
      "   <a class=\"sister\" href=\"http://example.com/lacie\" id=\"link2\">\n",
      "    Lacie\n",
      "   </a>\n",
      "   and\n",
      "   <a class=\"sister\" href=\"http://example.com/tillie\" id=\"link3\">\n",
      "    Tillie\n",
      "   </a>\n",
      "   ;\n",
      "and they lived at the bottom of a well.\n",
      "  </p>\n",
      "  <p class=\"story\">\n",
      "   ...\n",
      "  </p>\n",
      " </body>\n",
      "</html>\n"
     ]
    }
   ],
   "metadata": {}
  },
  {
   "cell_type": "code",
   "execution_count": 4,
   "source": [
    "soup.title"
   ],
   "outputs": [
    {
     "output_type": "execute_result",
     "data": {
      "text/plain": [
       "<title>The Dormouse's story</title>"
      ]
     },
     "metadata": {},
     "execution_count": 4
    }
   ],
   "metadata": {}
  },
  {
   "cell_type": "code",
   "execution_count": 5,
   "source": [
    "soup.title.text"
   ],
   "outputs": [
    {
     "output_type": "execute_result",
     "data": {
      "text/plain": [
       "\"The Dormouse's story\""
      ]
     },
     "metadata": {},
     "execution_count": 5
    }
   ],
   "metadata": {}
  },
  {
   "cell_type": "code",
   "execution_count": 6,
   "source": [
    "soup.title.string"
   ],
   "outputs": [
    {
     "output_type": "execute_result",
     "data": {
      "text/plain": [
       "\"The Dormouse's story\""
      ]
     },
     "metadata": {},
     "execution_count": 6
    }
   ],
   "metadata": {}
  },
  {
   "cell_type": "code",
   "execution_count": 15,
   "source": [
    "c=soup.p.children\r\n",
    "for ch in c:\r\n",
    "    print(ch)"
   ],
   "outputs": [
    {
     "output_type": "stream",
     "name": "stdout",
     "text": [
      "<b>The Dormouse's story</b>\n"
     ]
    }
   ],
   "metadata": {}
  },
  {
   "cell_type": "code",
   "execution_count": 20,
   "source": [
    "a"
   ],
   "outputs": [
    {
     "output_type": "execute_result",
     "data": {
      "text/plain": [
       "<a class=\"sister\" href=\"http://example.com/elsie\" id=\"link1\">Elsie</a>"
      ]
     },
     "metadata": {},
     "execution_count": 20
    }
   ],
   "metadata": {}
  },
  {
   "cell_type": "code",
   "execution_count": 21,
   "source": [
    "a = soup.find_all('a')\r\n",
    "len(a)"
   ],
   "outputs": [
    {
     "output_type": "execute_result",
     "data": {
      "text/plain": [
       "3"
      ]
     },
     "metadata": {},
     "execution_count": 21
    }
   ],
   "metadata": {}
  },
  {
   "cell_type": "code",
   "execution_count": 23,
   "source": [
    "soup.p"
   ],
   "outputs": [
    {
     "output_type": "execute_result",
     "data": {
      "text/plain": [
       "<p class=\"title\"><b>The Dormouse's story</b></p>"
      ]
     },
     "metadata": {},
     "execution_count": 23
    }
   ],
   "metadata": {}
  },
  {
   "cell_type": "code",
   "execution_count": 24,
   "source": [
    "soup.p['class']"
   ],
   "outputs": [
    {
     "output_type": "execute_result",
     "data": {
      "text/plain": [
       "['title']"
      ]
     },
     "metadata": {},
     "execution_count": 24
    }
   ],
   "metadata": {}
  },
  {
   "cell_type": "code",
   "execution_count": 29,
   "source": [
    "soup.a"
   ],
   "outputs": [
    {
     "output_type": "execute_result",
     "data": {
      "text/plain": [
       "<a class=\"sister\" href=\"http://example.com/elsie\" id=\"link1\">Elsie</a>"
      ]
     },
     "metadata": {},
     "execution_count": 29
    }
   ],
   "metadata": {}
  },
  {
   "cell_type": "code",
   "execution_count": 31,
   "source": [
    "a = soup.find_all('a')"
   ],
   "outputs": [],
   "metadata": {}
  },
  {
   "cell_type": "code",
   "execution_count": 34,
   "source": [
    "a[0]['href']"
   ],
   "outputs": [
    {
     "output_type": "execute_result",
     "data": {
      "text/plain": [
       "'http://example.com/elsie'"
      ]
     },
     "metadata": {},
     "execution_count": 34
    }
   ],
   "metadata": {}
  },
  {
   "cell_type": "code",
   "execution_count": 39,
   "source": [
    "a[0].string"
   ],
   "outputs": [
    {
     "output_type": "execute_result",
     "data": {
      "text/plain": [
       "'Elsie'"
      ]
     },
     "metadata": {},
     "execution_count": 39
    }
   ],
   "metadata": {}
  },
  {
   "cell_type": "code",
   "execution_count": 49,
   "source": [
    "import json\r\n",
    "f = open('doc.json','w') \r\n",
    "lk = {}\r\n",
    "for x in a:\r\n",
    "    print(f\"{x.string} --- {x.get('href')}\")\r\n",
    "    lk[x.string] = x.get('href')\r\n",
    "\r\n",
    "#lk    \r\n",
    "    \r\n",
    "json.dump(lk,f, indent=6)    \r\n",
    "    "
   ],
   "outputs": [
    {
     "output_type": "stream",
     "name": "stdout",
     "text": [
      "Elsie --- http://example.com/elsie\n",
      "Lacie --- http://example.com/lacie\n",
      "Tillie --- http://example.com/tillie\n"
     ]
    }
   ],
   "metadata": {}
  },
  {
   "cell_type": "code",
   "execution_count": 50,
   "source": [
    "import requests \r\n",
    "r = requests.get('https://apnews.com/')\r\n",
    "c = r.content \r\n",
    "\r\n",
    "apn = BeautifulSoup(c,\"html.parser\")\r\n",
    "\r\n"
   ],
   "outputs": [],
   "metadata": {}
  },
  {
   "cell_type": "code",
   "execution_count": 55,
   "source": [
    "a = apn.find_all('a')"
   ],
   "outputs": [],
   "metadata": {}
  },
  {
   "cell_type": "code",
   "execution_count": 59,
   "source": [
    "a_f = open('apn_link.json','w')\r\n",
    "a_l = {}\r\n",
    "\r\n",
    "for x in a:\r\n",
    "    a_l[x.string] = x.get('href')\r\n",
    "\r\n",
    "json.dump(a_l,a_f, indent=6)\r\n",
    "    \r\n"
   ],
   "outputs": [],
   "metadata": {}
  },
  {
   "cell_type": "code",
   "execution_count": 65,
   "source": [
    "r = requests.get('https://www.igouni.com/')\r\n",
    "cont = r.content\r\n",
    "ig = BeautifulSoup(cont,\"html.parser\")\r\n",
    "\r\n",
    "a = ig.find_all('a')\r\n",
    "\r\n",
    "ig_f = open('igouni.json','w')\r\n",
    "ig_dic = {}\r\n",
    "for i in a:\r\n",
    "    ig_dic[i.string] = i.get('href')\r\n",
    "\r\n",
    "json.dump(ig_dic,ig_f,indent=6)    \r\n"
   ],
   "outputs": [],
   "metadata": {}
  },
  {
   "cell_type": "code",
   "execution_count": 91,
   "source": [
    "req = requests.get('https://limkokwing.net/')\r\n",
    "con = req.content\r\n",
    "limk = BeautifulSoup(con,\"html.parser\")\r\n",
    "\r\n",
    "#a = limk.find_all('a')\r\n",
    "# limf = open(\"limkokwing.json\",\"w\")\r\n",
    "# lim_dict = {}\r\n",
    "\r\n",
    "# for l in a:\r\n",
    "#     lim_dict[l.string] = l.get('href')\r\n",
    "\r\n",
    "# json.dump(lim_dict, limf, indent=8)\r\n",
    "\r\n",
    "\r\n",
    "#img = limk.find_all('img')\r\n",
    "\r\n",
    "# limk_img = open('limkokwing_img.json','w')\r\n",
    "# dic_img = {}\r\n",
    "\r\n",
    "# for i in img:\r\n",
    "#     dic_img[i.get('alt')] = i.get('src')\r\n",
    "    \r\n",
    "# json.dump(dic_img, limk_img, indent=8)    \r\n",
    "\r\n",
    "#print(limk.get_text())\r\n",
    "txt = limk.get_text()\r\n",
    "\r\n",
    "with open('lim_text.html','w',encoding=\"utf-8\") as f:\r\n",
    "    f.writelines(\"<h3>\"+txt+\"</h3>\")\r\n",
    "\r\n"
   ],
   "outputs": [],
   "metadata": {}
  },
  {
   "cell_type": "code",
   "execution_count": null,
   "source": [],
   "outputs": [],
   "metadata": {}
  },
  {
   "cell_type": "code",
   "execution_count": null,
   "source": [],
   "outputs": [],
   "metadata": {}
  },
  {
   "cell_type": "code",
   "execution_count": null,
   "source": [],
   "outputs": [],
   "metadata": {}
  },
  {
   "cell_type": "code",
   "execution_count": null,
   "source": [],
   "outputs": [],
   "metadata": {}
  },
  {
   "cell_type": "code",
   "execution_count": null,
   "source": [],
   "outputs": [],
   "metadata": {}
  }
 ],
 "metadata": {
  "orig_nbformat": 4,
  "language_info": {
   "name": "python",
   "version": "3.8.8",
   "mimetype": "text/x-python",
   "codemirror_mode": {
    "name": "ipython",
    "version": 3
   },
   "pygments_lexer": "ipython3",
   "nbconvert_exporter": "python",
   "file_extension": ".py"
  },
  "kernelspec": {
   "name": "python3",
   "display_name": "Python 3.8.8 64-bit ('base': conda)"
  },
  "interpreter": {
   "hash": "efdfd2686e573dddf0c043741fac81f80551d77a937eef365896f7d2a67fdf2d"
  }
 },
 "nbformat": 4,
 "nbformat_minor": 2
}